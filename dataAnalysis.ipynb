{
 "cells": [
  {
   "cell_type": "code",
   "execution_count": 13,
   "metadata": {
    "collapsed": false
   },
   "outputs": [
    {
     "name": "stdout",
     "output_type": "stream",
     "text": [
      "-> reading:  1009firsthalf_averaged.json\n"
     ]
    }
   ],
   "source": [
    "import sys, os\n",
    "import json\n",
    "\n",
    "# set paths\n",
    "datapath = '/Users/adam2392/Desktop/Microsoft-Rugby-Machine-Learning/preprocessed_averaged'\n",
    "currpath = os.getcwd()\n",
    "\n",
    "os.chdir(datapath)\n",
    "\n",
    "# read in json\n",
    "lsDir = os.listdir(datapath)\n",
    "for eachFile in lsDir:\n",
    "    # if it is our json file\n",
    "    if \".json\" in eachFile:\n",
    "        print '->', 'reading: ', eachFile\n",
    "\n",
    "        json_data=open(eachFile).read()\n",
    "        data = json.loads(json_data)\n",
    "        break\n",
    "    "
   ]
  },
  {
   "cell_type": "code",
   "execution_count": 11,
   "metadata": {
    "collapsed": false
   },
   "outputs": [
    {
     "name": "stdout",
     "output_type": "stream",
     "text": [
      "0.0\n",
      "2760\n",
      "1009\n"
     ]
    }
   ],
   "source": [
    "print data[\"features\"][0]['properties']['heartrate']\n",
    "print len(data[\"features\"])\n",
    "print data[\"userID\"]"
   ]
  },
  {
   "cell_type": "code",
   "execution_count": null,
   "metadata": {
    "collapsed": true
   },
   "outputs": [],
   "source": [
    "isConnected = False\n",
    "\n",
    "# 01: read in mongoDB\n",
    "\n",
    "# 02: analyze and produce metrics\n",
    "\n",
    "# 03: feed back into mongodb under a new collection \"results\"\n",
    "\n",
    "# loop through and analyze\n",
    "for i in range(0, len(data[\"features\"])):\n",
    "    "
   ]
  }
 ],
 "metadata": {
  "kernelspec": {
   "display_name": "Python 2",
   "language": "python",
   "name": "python2"
  },
  "language_info": {
   "codemirror_mode": {
    "name": "ipython",
    "version": 2
   },
   "file_extension": ".py",
   "mimetype": "text/x-python",
   "name": "python",
   "nbconvert_exporter": "python",
   "pygments_lexer": "ipython2",
   "version": "2.7.10"
  }
 },
 "nbformat": 4,
 "nbformat_minor": 0
}
